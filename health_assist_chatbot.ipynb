{
 "cells": [
  {
   "cell_type": "markdown",
   "id": "73105df8",
   "metadata": {},
   "source": [
    "#### Import Libraries"
   ]
  },
  {
   "cell_type": "code",
   "execution_count": 2,
   "id": "694cd7fa-1877-46dc-99ff-25795801afb9",
   "metadata": {
    "tags": []
   },
   "outputs": [],
   "source": [
    "import pandas as pd\n",
    "from openai import OpenAI\n",
    "import json"
   ]
  },
  {
   "cell_type": "markdown",
   "id": "c6ebdc92-68aa-4e5d-8bde-f298e1e608ff",
   "metadata": {},
   "source": [
    "### Initialize OpenAI"
   ]
  },
  {
   "cell_type": "code",
   "execution_count": 3,
   "id": "e20d7a22-54ad-43f8-80ec-9815ba6adaa4",
   "metadata": {
    "tags": []
   },
   "outputs": [],
   "source": [
    "openai_client = OpenAI(api_key='YOUR_KEY_HERE')"
   ]
  },
  {
   "cell_type": "markdown",
   "id": "36f2f112-25e1-4e87-bf51-cd9a0f3cd82f",
   "metadata": {},
   "source": [
    "### Load the pre-existing symptoms database"
   ]
  },
  {
   "cell_type": "code",
   "execution_count": 4,
   "id": "e3364a30-8b18-4ded-90e8-0eee09c43ac8",
   "metadata": {
    "tags": []
   },
   "outputs": [],
   "source": [
    "data = pd.read_json(\"./intents.json\")"
   ]
  },
  {
   "cell_type": "code",
   "execution_count": 5,
   "id": "75b86a30-ae52-4132-b009-f860c2279fa6",
   "metadata": {
    "tags": []
   },
   "outputs": [
    {
     "data": {
      "text/html": [
       "<div>\n",
       "<style scoped>\n",
       "    .dataframe tbody tr th:only-of-type {\n",
       "        vertical-align: middle;\n",
       "    }\n",
       "\n",
       "    .dataframe tbody tr th {\n",
       "        vertical-align: top;\n",
       "    }\n",
       "\n",
       "    .dataframe thead th {\n",
       "        text-align: right;\n",
       "    }\n",
       "</style>\n",
       "<table border=\"1\" class=\"dataframe\">\n",
       "  <thead>\n",
       "    <tr style=\"text-align: right;\">\n",
       "      <th></th>\n",
       "      <th>intents</th>\n",
       "    </tr>\n",
       "  </thead>\n",
       "  <tbody>\n",
       "    <tr>\n",
       "      <th>0</th>\n",
       "      <td>{'tag': 'Cuts', 'patterns': ['What to do if Cu...</td>\n",
       "    </tr>\n",
       "    <tr>\n",
       "      <th>1</th>\n",
       "      <td>{'tag': 'Abrasions', 'patterns': ['how do you ...</td>\n",
       "    </tr>\n",
       "    <tr>\n",
       "      <th>2</th>\n",
       "      <td>{'tag': 'stings', 'patterns': ['How do you tre...</td>\n",
       "    </tr>\n",
       "    <tr>\n",
       "      <th>3</th>\n",
       "      <td>{'tag': 'Splinter', 'patterns': ['How to remov...</td>\n",
       "    </tr>\n",
       "    <tr>\n",
       "      <th>4</th>\n",
       "      <td>{'tag': 'Sprains', 'patterns': ['How do you tr...</td>\n",
       "    </tr>\n",
       "    <tr>\n",
       "      <th>5</th>\n",
       "      <td>{'tag': 'Strains', 'patterns': ['How do you tr...</td>\n",
       "    </tr>\n",
       "    <tr>\n",
       "      <th>6</th>\n",
       "      <td>{'tag': 'Fever', 'patterns': ['How do you trea...</td>\n",
       "    </tr>\n",
       "    <tr>\n",
       "      <th>7</th>\n",
       "      <td>{'tag': 'Nasal Congestion', 'patterns': ['How ...</td>\n",
       "    </tr>\n",
       "    <tr>\n",
       "      <th>8</th>\n",
       "      <td>{'tag': 'Cough', 'patterns': ['How to cure cou...</td>\n",
       "    </tr>\n",
       "    <tr>\n",
       "      <th>9</th>\n",
       "      <td>{'tag': 'Sore Throat', 'patterns': ['How do yo...</td>\n",
       "    </tr>\n",
       "    <tr>\n",
       "      <th>10</th>\n",
       "      <td>{'tag': 'Gastrointestinal problems', 'patterns...</td>\n",
       "    </tr>\n",
       "    <tr>\n",
       "      <th>11</th>\n",
       "      <td>{'tag': 'Skin problems', 'patterns': ['How do ...</td>\n",
       "    </tr>\n",
       "    <tr>\n",
       "      <th>12</th>\n",
       "      <td>{'tag': 'Abdonominal Pain', 'patterns': ['How ...</td>\n",
       "    </tr>\n",
       "    <tr>\n",
       "      <th>13</th>\n",
       "      <td>{'tag': 'Bruises', 'patterns': ['How do you tr...</td>\n",
       "    </tr>\n",
       "    <tr>\n",
       "      <th>14</th>\n",
       "      <td>{'tag': 'Broken Toe', 'patterns': ['How do you...</td>\n",
       "    </tr>\n",
       "    <tr>\n",
       "      <th>15</th>\n",
       "      <td>{'tag': 'Choking', 'patterns': ['How do you tr...</td>\n",
       "    </tr>\n",
       "    <tr>\n",
       "      <th>16</th>\n",
       "      <td>{'tag': 'Wound', 'patterns': ['How do you trea...</td>\n",
       "    </tr>\n",
       "    <tr>\n",
       "      <th>17</th>\n",
       "      <td>{'tag': 'Diarrhea', 'patterns': ['How do you t...</td>\n",
       "    </tr>\n",
       "    <tr>\n",
       "      <th>18</th>\n",
       "      <td>{'tag': 'Frost bite', 'patterns': ['How do you...</td>\n",
       "    </tr>\n",
       "    <tr>\n",
       "      <th>19</th>\n",
       "      <td>{'tag': 'Heat Exhaustion', 'patterns': ['How d...</td>\n",
       "    </tr>\n",
       "    <tr>\n",
       "      <th>20</th>\n",
       "      <td>{'tag': 'Heat Stroke', 'patterns': ['How do yo...</td>\n",
       "    </tr>\n",
       "    <tr>\n",
       "      <th>21</th>\n",
       "      <td>{'tag': 'Insect Bites', 'patterns': ['How do y...</td>\n",
       "    </tr>\n",
       "    <tr>\n",
       "      <th>22</th>\n",
       "      <td>{'tag': 'nose bleed', 'patterns': ['How do you...</td>\n",
       "    </tr>\n",
       "    <tr>\n",
       "      <th>23</th>\n",
       "      <td>{'tag': 'Pulled Muscle', 'patterns': ['How do ...</td>\n",
       "    </tr>\n",
       "    <tr>\n",
       "      <th>24</th>\n",
       "      <td>{'tag': 'Rectal bleeding', 'patterns': ['How d...</td>\n",
       "    </tr>\n",
       "    <tr>\n",
       "      <th>25</th>\n",
       "      <td>{'tag': 'Sun Burn', 'patterns': ['How do you t...</td>\n",
       "    </tr>\n",
       "    <tr>\n",
       "      <th>26</th>\n",
       "      <td>{'tag': 'Testicle Pain', 'patterns': ['How do ...</td>\n",
       "    </tr>\n",
       "    <tr>\n",
       "      <th>27</th>\n",
       "      <td>{'tag': 'Vertigo', 'patterns': ['How do you tr...</td>\n",
       "    </tr>\n",
       "    <tr>\n",
       "      <th>28</th>\n",
       "      <td>{'tag': 'Normal Bleeding', 'patterns': ['How d...</td>\n",
       "    </tr>\n",
       "    <tr>\n",
       "      <th>29</th>\n",
       "      <td>{'tag': 'Eye Injury', 'patterns': ['How do you...</td>\n",
       "    </tr>\n",
       "    <tr>\n",
       "      <th>30</th>\n",
       "      <td>{'tag': 'Chemical Burn', 'patterns': ['How do ...</td>\n",
       "    </tr>\n",
       "    <tr>\n",
       "      <th>31</th>\n",
       "      <td>{'tag': 'Poison', 'patterns': ['How do you tre...</td>\n",
       "    </tr>\n",
       "    <tr>\n",
       "      <th>32</th>\n",
       "      <td>{'tag': 'Teeth', 'patterns': ['How do you trea...</td>\n",
       "    </tr>\n",
       "    <tr>\n",
       "      <th>33</th>\n",
       "      <td>{'tag': 'seizure', 'patterns': ['How do you tr...</td>\n",
       "    </tr>\n",
       "    <tr>\n",
       "      <th>34</th>\n",
       "      <td>{'tag': 'Head Injury', 'patterns': ['How do yo...</td>\n",
       "    </tr>\n",
       "    <tr>\n",
       "      <th>35</th>\n",
       "      <td>{'tag': 'Fainting', 'patterns': ['How do you t...</td>\n",
       "    </tr>\n",
       "    <tr>\n",
       "      <th>36</th>\n",
       "      <td>{'tag': 'Headache', 'patterns': ['How do you t...</td>\n",
       "    </tr>\n",
       "    <tr>\n",
       "      <th>37</th>\n",
       "      <td>{'tag': 'Cold', 'patterns': ['How do you treat...</td>\n",
       "    </tr>\n",
       "    <tr>\n",
       "      <th>38</th>\n",
       "      <td>{'tag': 'Rash', 'patterns': ['How do you treat...</td>\n",
       "    </tr>\n",
       "    <tr>\n",
       "      <th>39</th>\n",
       "      <td>{'tag': 'snake bite', 'patterns': ['How do you...</td>\n",
       "    </tr>\n",
       "    <tr>\n",
       "      <th>40</th>\n",
       "      <td>{'tag': 'animal bite', 'patterns': ['How do yo...</td>\n",
       "    </tr>\n",
       "    <tr>\n",
       "      <th>41</th>\n",
       "      <td>{'tag': 'Drowning', 'patterns': ['What to do i...</td>\n",
       "    </tr>\n",
       "    <tr>\n",
       "      <th>42</th>\n",
       "      <td>{'tag': 'CPR', 'patterns': ['How to give CPR??...</td>\n",
       "    </tr>\n",
       "    <tr>\n",
       "      <th>43</th>\n",
       "      <td>{'tag': 'Fracture', 'patterns': ['How do you t...</td>\n",
       "    </tr>\n",
       "  </tbody>\n",
       "</table>\n",
       "</div>"
      ],
      "text/plain": [
       "                                              intents\n",
       "0   {'tag': 'Cuts', 'patterns': ['What to do if Cu...\n",
       "1   {'tag': 'Abrasions', 'patterns': ['how do you ...\n",
       "2   {'tag': 'stings', 'patterns': ['How do you tre...\n",
       "3   {'tag': 'Splinter', 'patterns': ['How to remov...\n",
       "4   {'tag': 'Sprains', 'patterns': ['How do you tr...\n",
       "5   {'tag': 'Strains', 'patterns': ['How do you tr...\n",
       "6   {'tag': 'Fever', 'patterns': ['How do you trea...\n",
       "7   {'tag': 'Nasal Congestion', 'patterns': ['How ...\n",
       "8   {'tag': 'Cough', 'patterns': ['How to cure cou...\n",
       "9   {'tag': 'Sore Throat', 'patterns': ['How do yo...\n",
       "10  {'tag': 'Gastrointestinal problems', 'patterns...\n",
       "11  {'tag': 'Skin problems', 'patterns': ['How do ...\n",
       "12  {'tag': 'Abdonominal Pain', 'patterns': ['How ...\n",
       "13  {'tag': 'Bruises', 'patterns': ['How do you tr...\n",
       "14  {'tag': 'Broken Toe', 'patterns': ['How do you...\n",
       "15  {'tag': 'Choking', 'patterns': ['How do you tr...\n",
       "16  {'tag': 'Wound', 'patterns': ['How do you trea...\n",
       "17  {'tag': 'Diarrhea', 'patterns': ['How do you t...\n",
       "18  {'tag': 'Frost bite', 'patterns': ['How do you...\n",
       "19  {'tag': 'Heat Exhaustion', 'patterns': ['How d...\n",
       "20  {'tag': 'Heat Stroke', 'patterns': ['How do yo...\n",
       "21  {'tag': 'Insect Bites', 'patterns': ['How do y...\n",
       "22  {'tag': 'nose bleed', 'patterns': ['How do you...\n",
       "23  {'tag': 'Pulled Muscle', 'patterns': ['How do ...\n",
       "24  {'tag': 'Rectal bleeding', 'patterns': ['How d...\n",
       "25  {'tag': 'Sun Burn', 'patterns': ['How do you t...\n",
       "26  {'tag': 'Testicle Pain', 'patterns': ['How do ...\n",
       "27  {'tag': 'Vertigo', 'patterns': ['How do you tr...\n",
       "28  {'tag': 'Normal Bleeding', 'patterns': ['How d...\n",
       "29  {'tag': 'Eye Injury', 'patterns': ['How do you...\n",
       "30  {'tag': 'Chemical Burn', 'patterns': ['How do ...\n",
       "31  {'tag': 'Poison', 'patterns': ['How do you tre...\n",
       "32  {'tag': 'Teeth', 'patterns': ['How do you trea...\n",
       "33  {'tag': 'seizure', 'patterns': ['How do you tr...\n",
       "34  {'tag': 'Head Injury', 'patterns': ['How do yo...\n",
       "35  {'tag': 'Fainting', 'patterns': ['How do you t...\n",
       "36  {'tag': 'Headache', 'patterns': ['How do you t...\n",
       "37  {'tag': 'Cold', 'patterns': ['How do you treat...\n",
       "38  {'tag': 'Rash', 'patterns': ['How do you treat...\n",
       "39  {'tag': 'snake bite', 'patterns': ['How do you...\n",
       "40  {'tag': 'animal bite', 'patterns': ['How do yo...\n",
       "41  {'tag': 'Drowning', 'patterns': ['What to do i...\n",
       "42  {'tag': 'CPR', 'patterns': ['How to give CPR??...\n",
       "43  {'tag': 'Fracture', 'patterns': ['How do you t..."
      ]
     },
     "execution_count": 5,
     "metadata": {},
     "output_type": "execute_result"
    }
   ],
   "source": [
    "data.head(50)"
   ]
  },
  {
   "cell_type": "code",
   "execution_count": 6,
   "id": "e93e5168-9b3f-4988-9cb0-d11725895e53",
   "metadata": {
    "tags": []
   },
   "outputs": [],
   "source": [
    "data = data['intents']"
   ]
  },
  {
   "cell_type": "code",
   "execution_count": 7,
   "id": "08903f4e-26c0-4e4f-aaa0-c34673922bc2",
   "metadata": {
    "tags": []
   },
   "outputs": [
    {
     "data": {
      "text/plain": [
       "44"
      ]
     },
     "execution_count": 7,
     "metadata": {},
     "output_type": "execute_result"
    }
   ],
   "source": [
    "len(data)"
   ]
  },
  {
   "cell_type": "code",
   "execution_count": 8,
   "id": "d181209e-8460-4358-9970-1d1401ddd3fe",
   "metadata": {
    "tags": []
   },
   "outputs": [],
   "source": [
    "train_data = pd.DataFrame(columns=['intent','patterns','response'])"
   ]
  },
  {
   "cell_type": "markdown",
   "id": "88ab80d5-12d4-45fe-91c3-1d01c740e4e1",
   "metadata": {},
   "source": [
    "### Making the data format bit readable"
   ]
  },
  {
   "cell_type": "code",
   "execution_count": 9,
   "id": "843d16cf-b0d4-461a-925b-9e56e8b56ef4",
   "metadata": {
    "tags": []
   },
   "outputs": [],
   "source": [
    "for index in data:\n",
    "        new_data = {'intent': index['tag'].lower(),'patterns': index['patterns'],'response':index['responses']}\n",
    "        train_data = train_data._append(new_data, ignore_index=True)"
   ]
  },
  {
   "cell_type": "markdown",
   "id": "91662980-5dc1-44fe-b4cc-deea1bf8882b",
   "metadata": {},
   "source": [
    "First prompt to begin the conversation in the bot"
   ]
  },
  {
   "cell_type": "code",
   "execution_count": 10,
   "id": "3b7bace2-3fe8-4a22-aac4-79581125138f",
   "metadata": {
    "tags": []
   },
   "outputs": [],
   "source": [
    "def initialize_conversation():\n",
    "    '''\n",
    "    Returns a list [{\"role\": \"system\", \"content\": system_message}]\n",
    "    '''\n",
    "\n",
    "    delimiter = \"####\"\n",
    "\n",
    "    health_issues_category = [\n",
    "        'Cuts', 'Abrasions', 'Stings', 'Splinter', 'Sprains', 'Strains', 'Fever',\n",
    "        'Nasal Congestion', 'Cough', 'Sore Throat', 'Gastrointestinal problems',\n",
    "        'Skin problems', 'Abdominal Pain', 'Bruises', 'Broken Toe', 'Choking',\n",
    "        'Wound', 'Diarrhea', 'Frostbite', 'Heat Exhaustion', 'Heat Stroke',\n",
    "        'Insect Bites', 'Nose Bleed', 'Pulled Muscle', 'Rectal Bleeding', 'Sun Burn',\n",
    "        'Testicle Pain', 'Vertigo', 'Normal Bleeding', 'Eye Injury', 'Chemical Burn',\n",
    "        'Poison', 'Teeth Issues', 'Seizure', 'Head Injury', 'Fainting', 'Headache',\n",
    "        'Cold', 'Rash', 'Snake Bite', 'Animal Bite', 'Drowning', 'CPR', 'Fracture'\n",
    "    ]\n",
    "    \n",
    "    response_format = {'issue': '_'}\n",
    "\n",
    "    system_message = f\"\"\"\n",
    "    You are an intelligent healthcare expert. Your goal is to identify the patient's health issue by asking relevant questions and analyzing their responses. \n",
    "    You must categorize the health issue based on the following categories: {health_issues_category}. Any response that does not fit these categories will be penalized.\n",
    "    The final response should be in JSON format, following this structure: {response_format}, with the 'issue' key filled in accordingly.\n",
    "\n",
    "    Follow these steps to understand and identify the user's health issue:\n",
    "    {delimiter}\n",
    "    Thought 1: Ask initial questions to understand the user's health issue. If the issue is unclear, ask follow-up questions for more details. Ensure the issue falls within the {health_issues_category} categories.\n",
    "    {delimiter}\n",
    "    Thought 2: If the user is unclear, ask indirect questions related to the {health_issues_category}. Rephrase questions if necessary to capture the problem clearly.\n",
    "    {delimiter}\n",
    "\n",
    "    Example conversation:\n",
    "    User: \"Hi, I am facing health issues.\"\n",
    "    Assistant: \"I'm sorry to hear that. Can you describe your symptoms a bit more? Do you have a runny nose or a cough? Please tell me more so I can assist you better.\"\n",
    "    User: \"I think I have a cough, but I'm not sure.\"\n",
    "    Assistant: \"Thank you for the information. Let me help you further.\"\n",
    "    Assistant: \"{response_format}\"\n",
    "    {delimiter}\n",
    "\n",
    "    Begin with a short welcome message and encourage the user to share their health issues.\n",
    "    \"\"\"\n",
    "    \n",
    "    conversation = [{\"role\": \"system\", \"content\": system_message}]\n",
    "    return conversation\n"
   ]
  },
  {
   "cell_type": "code",
   "execution_count": 11,
   "id": "4b3b861f-8a40-4468-83a6-83a35e95e150",
   "metadata": {
    "tags": []
   },
   "outputs": [
    {
     "name": "stdout",
     "output_type": "stream",
     "text": [
      "[{'role': 'system', 'content': '\\n    You are an intelligent healthcare expert. Your goal is to identify the patient\\'s health issue by asking relevant questions and analyzing their responses. \\n    You must categorize the health issue based on the following categories: [\\'Cuts\\', \\'Abrasions\\', \\'Stings\\', \\'Splinter\\', \\'Sprains\\', \\'Strains\\', \\'Fever\\', \\'Nasal Congestion\\', \\'Cough\\', \\'Sore Throat\\', \\'Gastrointestinal problems\\', \\'Skin problems\\', \\'Abdominal Pain\\', \\'Bruises\\', \\'Broken Toe\\', \\'Choking\\', \\'Wound\\', \\'Diarrhea\\', \\'Frostbite\\', \\'Heat Exhaustion\\', \\'Heat Stroke\\', \\'Insect Bites\\', \\'Nose Bleed\\', \\'Pulled Muscle\\', \\'Rectal Bleeding\\', \\'Sun Burn\\', \\'Testicle Pain\\', \\'Vertigo\\', \\'Normal Bleeding\\', \\'Eye Injury\\', \\'Chemical Burn\\', \\'Poison\\', \\'Teeth Issues\\', \\'Seizure\\', \\'Head Injury\\', \\'Fainting\\', \\'Headache\\', \\'Cold\\', \\'Rash\\', \\'Snake Bite\\', \\'Animal Bite\\', \\'Drowning\\', \\'CPR\\', \\'Fracture\\']. Any response that does not fit these categories will be penalized.\\n    The final response should be in JSON format, following this structure: {\\'issue\\': \\'_\\'}, with the \\'issue\\' key filled in accordingly.\\n\\n    Follow these steps to understand and identify the user\\'s health issue:\\n    ####\\n    Thought 1: Ask initial questions to understand the user\\'s health issue. If the issue is unclear, ask follow-up questions for more details. Ensure the issue falls within the [\\'Cuts\\', \\'Abrasions\\', \\'Stings\\', \\'Splinter\\', \\'Sprains\\', \\'Strains\\', \\'Fever\\', \\'Nasal Congestion\\', \\'Cough\\', \\'Sore Throat\\', \\'Gastrointestinal problems\\', \\'Skin problems\\', \\'Abdominal Pain\\', \\'Bruises\\', \\'Broken Toe\\', \\'Choking\\', \\'Wound\\', \\'Diarrhea\\', \\'Frostbite\\', \\'Heat Exhaustion\\', \\'Heat Stroke\\', \\'Insect Bites\\', \\'Nose Bleed\\', \\'Pulled Muscle\\', \\'Rectal Bleeding\\', \\'Sun Burn\\', \\'Testicle Pain\\', \\'Vertigo\\', \\'Normal Bleeding\\', \\'Eye Injury\\', \\'Chemical Burn\\', \\'Poison\\', \\'Teeth Issues\\', \\'Seizure\\', \\'Head Injury\\', \\'Fainting\\', \\'Headache\\', \\'Cold\\', \\'Rash\\', \\'Snake Bite\\', \\'Animal Bite\\', \\'Drowning\\', \\'CPR\\', \\'Fracture\\'] categories.\\n    ####\\n    Thought 2: If the user is unclear, ask indirect questions related to the [\\'Cuts\\', \\'Abrasions\\', \\'Stings\\', \\'Splinter\\', \\'Sprains\\', \\'Strains\\', \\'Fever\\', \\'Nasal Congestion\\', \\'Cough\\', \\'Sore Throat\\', \\'Gastrointestinal problems\\', \\'Skin problems\\', \\'Abdominal Pain\\', \\'Bruises\\', \\'Broken Toe\\', \\'Choking\\', \\'Wound\\', \\'Diarrhea\\', \\'Frostbite\\', \\'Heat Exhaustion\\', \\'Heat Stroke\\', \\'Insect Bites\\', \\'Nose Bleed\\', \\'Pulled Muscle\\', \\'Rectal Bleeding\\', \\'Sun Burn\\', \\'Testicle Pain\\', \\'Vertigo\\', \\'Normal Bleeding\\', \\'Eye Injury\\', \\'Chemical Burn\\', \\'Poison\\', \\'Teeth Issues\\', \\'Seizure\\', \\'Head Injury\\', \\'Fainting\\', \\'Headache\\', \\'Cold\\', \\'Rash\\', \\'Snake Bite\\', \\'Animal Bite\\', \\'Drowning\\', \\'CPR\\', \\'Fracture\\']. Rephrase questions if necessary to capture the problem clearly.\\n    ####\\n\\n    Example conversation:\\n    User: \"Hi, I am facing health issues.\"\\n    Assistant: \"I\\'m sorry to hear that. Can you describe your symptoms a bit more? Do you have a runny nose or a cough? Please tell me more so I can assist you better.\"\\n    User: \"I think I have a cough, but I\\'m not sure.\"\\n    Assistant: \"Thank you for the information. Let me help you further.\"\\n    Assistant: \"{\\'issue\\': \\'_\\'}\"\\n    ####\\n\\n    Begin with a short welcome message and encourage the user to share their health issues.\\n    '}]\n"
     ]
    }
   ],
   "source": [
    "debug_conversation = initialize_conversation()\n",
    "print(debug_conversation)"
   ]
  },
  {
   "cell_type": "code",
   "execution_count": 12,
   "id": "f6a05bbf-4e30-4991-b207-55129d655944",
   "metadata": {
    "tags": []
   },
   "outputs": [
    {
     "name": "stdout",
     "output_type": "stream",
     "text": [
      "\n",
      "    You are an intelligent healthcare expert. Your goal is to identify the patient's health issue by asking relevant questions and analyzing their responses. \n",
      "    You must categorize the health issue based on the following categories: ['Cuts', 'Abrasions', 'Stings', 'Splinter', 'Sprains', 'Strains', 'Fever', 'Nasal Congestion', 'Cough', 'Sore Throat', 'Gastrointestinal problems', 'Skin problems', 'Abdominal Pain', 'Bruises', 'Broken Toe', 'Choking', 'Wound', 'Diarrhea', 'Frostbite', 'Heat Exhaustion', 'Heat Stroke', 'Insect Bites', 'Nose Bleed', 'Pulled Muscle', 'Rectal Bleeding', 'Sun Burn', 'Testicle Pain', 'Vertigo', 'Normal Bleeding', 'Eye Injury', 'Chemical Burn', 'Poison', 'Teeth Issues', 'Seizure', 'Head Injury', 'Fainting', 'Headache', 'Cold', 'Rash', 'Snake Bite', 'Animal Bite', 'Drowning', 'CPR', 'Fracture']. Any response that does not fit these categories will be penalized.\n",
      "    The final response should be in JSON format, following this structure: {'issue': '_'}, with the 'issue' key filled in accordingly.\n",
      "\n",
      "    Follow these steps to understand and identify the user's health issue:\n",
      "    ####\n",
      "    Thought 1: Ask initial questions to understand the user's health issue. If the issue is unclear, ask follow-up questions for more details. Ensure the issue falls within the ['Cuts', 'Abrasions', 'Stings', 'Splinter', 'Sprains', 'Strains', 'Fever', 'Nasal Congestion', 'Cough', 'Sore Throat', 'Gastrointestinal problems', 'Skin problems', 'Abdominal Pain', 'Bruises', 'Broken Toe', 'Choking', 'Wound', 'Diarrhea', 'Frostbite', 'Heat Exhaustion', 'Heat Stroke', 'Insect Bites', 'Nose Bleed', 'Pulled Muscle', 'Rectal Bleeding', 'Sun Burn', 'Testicle Pain', 'Vertigo', 'Normal Bleeding', 'Eye Injury', 'Chemical Burn', 'Poison', 'Teeth Issues', 'Seizure', 'Head Injury', 'Fainting', 'Headache', 'Cold', 'Rash', 'Snake Bite', 'Animal Bite', 'Drowning', 'CPR', 'Fracture'] categories.\n",
      "    ####\n",
      "    Thought 2: If the user is unclear, ask indirect questions related to the ['Cuts', 'Abrasions', 'Stings', 'Splinter', 'Sprains', 'Strains', 'Fever', 'Nasal Congestion', 'Cough', 'Sore Throat', 'Gastrointestinal problems', 'Skin problems', 'Abdominal Pain', 'Bruises', 'Broken Toe', 'Choking', 'Wound', 'Diarrhea', 'Frostbite', 'Heat Exhaustion', 'Heat Stroke', 'Insect Bites', 'Nose Bleed', 'Pulled Muscle', 'Rectal Bleeding', 'Sun Burn', 'Testicle Pain', 'Vertigo', 'Normal Bleeding', 'Eye Injury', 'Chemical Burn', 'Poison', 'Teeth Issues', 'Seizure', 'Head Injury', 'Fainting', 'Headache', 'Cold', 'Rash', 'Snake Bite', 'Animal Bite', 'Drowning', 'CPR', 'Fracture']. Rephrase questions if necessary to capture the problem clearly.\n",
      "    ####\n",
      "\n",
      "    Example conversation:\n",
      "    User: \"Hi, I am facing health issues.\"\n",
      "    Assistant: \"I'm sorry to hear that. Can you describe your symptoms a bit more? Do you have a runny nose or a cough? Please tell me more so I can assist you better.\"\n",
      "    User: \"I think I have a cough, but I'm not sure.\"\n",
      "    Assistant: \"Thank you for the information. Let me help you further.\"\n",
      "    Assistant: \"{'issue': '_'}\"\n",
      "    ####\n",
      "\n",
      "    Begin with a short welcome message and encourage the user to share their health issues.\n",
      "    \n"
     ]
    }
   ],
   "source": [
    "print(debug_conversation[0]['content'])"
   ]
  },
  {
   "cell_type": "markdown",
   "id": "93d50fe3-f3ae-4617-966f-2d0a326f4119",
   "metadata": {},
   "source": [
    "### OpenAI call for the chat completions"
   ]
  },
  {
   "cell_type": "code",
   "execution_count": 13,
   "id": "44e69fd2-26b6-445e-b38f-bbe09fe3ba1e",
   "metadata": {
    "tags": []
   },
   "outputs": [],
   "source": [
    "# Define a Chat Completions API call\n",
    "def get_chat_completions(input):\n",
    "        MODEL = 'gpt-3.5-turbo'\n",
    "        chat_completion = openai_client.chat.completions.create(\n",
    "            model = MODEL,\n",
    "            messages = input,\n",
    "            seed = 2345)\n",
    "        output = chat_completion.choices[0].message.content\n",
    "        return output"
   ]
  },
  {
   "cell_type": "code",
   "execution_count": 14,
   "id": "816426e4-ab3c-4ad7-9897-28b6f1484133",
   "metadata": {
    "tags": []
   },
   "outputs": [],
   "source": [
    "input_prompt ='What is the capital of France?'\n",
    "messages = [{'role':'user','content':input_prompt}]"
   ]
  },
  {
   "cell_type": "code",
   "execution_count": 15,
   "id": "d5f86bc4-d6a8-4fc9-a43c-c1b7ff0a3b04",
   "metadata": {
    "tags": []
   },
   "outputs": [
    {
     "data": {
      "text/plain": [
       "'The capital of France is Paris.'"
      ]
     },
     "execution_count": 15,
     "metadata": {},
     "output_type": "execute_result"
    }
   ],
   "source": [
    "get_chat_completions(messages)"
   ]
  },
  {
   "cell_type": "markdown",
   "id": "ff0abcf0-120f-4931-be85-f879469b859e",
   "metadata": {},
   "source": [
    "### Moderation check for the bad messages"
   ]
  },
  {
   "cell_type": "code",
   "execution_count": 16,
   "id": "004dfa1c-9ffa-4981-9021-453bf19a191a",
   "metadata": {
    "tags": []
   },
   "outputs": [],
   "source": [
    "def moderation_check(user_input):\n",
    "    # Call the OpenAI API to perform moderation on the user's input.\n",
    "    response = openai_client.moderations.create(input=user_input)\n",
    "\n",
    "    # Extract the moderation result from the API response.\n",
    "    moderation_output = response.results[0].flagged\n",
    "    # Check if the input was flagged by the moderation system.\n",
    "    if response.results[0].flagged == True:\n",
    "        # If flagged, return \"Flagged\"\n",
    "        return \"Flagged\"\n",
    "    else:\n",
    "        # If not flagged, return \"Not Flagged\"\n",
    "        return \"Not Flagged\""
   ]
  },
  {
   "cell_type": "markdown",
   "id": "7f82c594-13a0-461f-bad2-afa93dd8aea4",
   "metadata": {},
   "source": [
    "### Find out the solution as described by the doctors for the health issues"
   ]
  },
  {
   "cell_type": "code",
   "execution_count": 17,
   "id": "c0693022-3597-4463-be61-6655333df99e",
   "metadata": {
    "tags": []
   },
   "outputs": [],
   "source": [
    "def suggest_health_solution(intent):\n",
    "    data = None\n",
    "    try:\n",
    "        json_data = json.loads(intent)\n",
    "        if 'issue' in json_data:            \n",
    "            checkIntent = json_data['issue'].lower() in train_data['intent'].values\n",
    "            if(checkIntent):\n",
    "                #we found the intent from chatbot, lets retrieve and show the result\n",
    "                data_1 = train_data[train_data['intent'] == json_data['issue'].lower()]['response']\n",
    "                data = data_1[data_1.index[0]][0]\n",
    "                return data\n",
    "        else:\n",
    "            return data\n",
    "    except ValueError as e:\n",
    "        print(e)\n",
    "        return data"
   ]
  },
  {
   "cell_type": "markdown",
   "id": "cd217200-dc6c-44db-a8d6-9f69c5613e6c",
   "metadata": {},
   "source": [
    "### check if dictionary is present in the text and extract it "
   ]
  },
  {
   "cell_type": "code",
   "execution_count": 18,
   "id": "628f1f38-ed64-46f5-a0b6-921886aca2fa",
   "metadata": {
    "tags": []
   },
   "outputs": [],
   "source": [
    "def dictionary_present(response):\n",
    "    delimiter = \"####\"\n",
    "\n",
    "    data_format = {\"issue\": \"cough\"}\n",
    "\n",
    "    prompt = f\"\"\"You are a python expert. You are provided an input.\n",
    "            You have to check if there is a python dictionary present in the string.\n",
    "            It will have the following format {data_format}.\n",
    "            Your task is to just extract the relevant values from the input and return only the python dictionary in JSON format with double quotes in keys and values.\n",
    "            The output should match the format as {data_format}.\n",
    "\n",
    "            {delimiter}\n",
    "            The output should contain the exact keys and values as present in the input.\n",
    "            Here are some sample input output pairs for better understanding:\n",
    "            {delimiter}\n",
    "            input 1: - Thank you for clarifying. Based on your symptom of running nose without sore throat or cough, it seems like you may have Nasal Congestion. {{'issue': 'Nasal Congestion'}}\n",
    "            output 1: {{\"issue\": \"Nasal Congestion\"}}\n",
    "\n",
    "            input 2: - Thank you for clarifying. Based on your symptom of fever without sore throat or cough, it seems like you may have fever. {{'issue': 'Fever'}}\n",
    "            output 2: {{\"issue\": \"Fever\"}}\n",
    "            {delimiter}\n",
    "            \"\"\"\n",
    "    messages = [{\"role\": \"system\", \"content\":prompt },\n",
    "                {\"role\": \"user\", \"content\":f\"\"\"Here is the user input: {response}\"\"\" }]\n",
    "\n",
    "    confirmation = get_chat_completions(messages)\n",
    "\n",
    "    return confirmation"
   ]
  },
  {
   "cell_type": "code",
   "execution_count": 19,
   "id": "fce0c25b-9633-44e2-af9c-ae25309bdd87",
   "metadata": {
    "tags": []
   },
   "outputs": [],
   "source": [
    "string_dict = \"Thank you for clarifying. Based on your symptom of running nose without sore throat or cough, it seems like you may have Nasal Congestion.{'issue': 'Nasal Congestion'}\"\"\"\n",
    "check_dict = dictionary_present(string_dict)"
   ]
  },
  {
   "cell_type": "code",
   "execution_count": 20,
   "id": "9d45c009-cf7b-4b94-a39a-3c3c4b041aaa",
   "metadata": {
    "tags": []
   },
   "outputs": [
    {
     "data": {
      "text/plain": [
       "'{\"issue\": \"Nasal Congestion\"}'"
      ]
     },
     "execution_count": 20,
     "metadata": {},
     "output_type": "execute_result"
    }
   ],
   "source": [
    "check_dict"
   ]
  },
  {
   "cell_type": "markdown",
   "id": "a237c47d-fe8d-447e-9236-be30a60d36fb",
   "metadata": {},
   "source": [
    "### Dialogue management system for the bot"
   ]
  },
  {
   "cell_type": "code",
   "execution_count": 21,
   "id": "05ee8622-ea2c-4102-a79f-e4587b16b552",
   "metadata": {
    "tags": []
   },
   "outputs": [],
   "source": [
    "def dialogue_mgmt_system():\n",
    "    conversation = initialize_conversation()\n",
    "\n",
    "    introduction = get_chat_completions(conversation)\n",
    "\n",
    "    display(introduction + '\\n')\n",
    "    \n",
    "    user_input = ''\n",
    "\n",
    "    while(user_input != \"exit\"):\n",
    "        user_input = input(\"\")\n",
    "\n",
    "        moderation = moderation_check(user_input)\n",
    "        if moderation == 'Flagged':\n",
    "            display(\"Sorry, this message has been flagged. Please restart your conversation.\")\n",
    "            break\n",
    "            \n",
    "        conversation.append({\"role\": \"user\", \"content\": user_input})\n",
    "        response_assistant = get_chat_completions(conversation)\n",
    "        moderation = moderation_check(response_assistant)\n",
    "        if moderation == 'Flagged':\n",
    "            display(\"Sorry, this message has been flagged. Please restart your conversation.\")\n",
    "            break\n",
    "        print('Please wait while we understand the problem...\\n')\n",
    "        ## if json present in the text, extract it\n",
    "        extract_json = dictionary_present(response_assistant)\n",
    "        ## check if the issue is actually found yet\n",
    "        confirmation = suggest_health_solution(extract_json)\n",
    "        if(confirmation is None):\n",
    "            ## issue not found, ask more questions to understand the intent\n",
    "            print(response_assistant)\n",
    "            conversation.append({\"role\": \"assistant\", \"content\": str(response_assistant)})\n",
    "        else:\n",
    "            ## print the health solutions\n",
    "            print(str(confirmation) + '\\n')"
   ]
  },
  {
   "cell_type": "code",
   "execution_count": 22,
   "id": "a11e4c3a-4aef-412a-ad68-f03a757d3779",
   "metadata": {
    "tags": []
   },
   "outputs": [
    {
     "data": {
      "text/plain": [
       "\"Hello! I'm here to help you with your health issues. Please feel free to share any symptoms or discomfort you are experiencing so I can assist you better. What seems to be the problem?\\n\""
      ]
     },
     "metadata": {},
     "output_type": "display_data"
    },
    {
     "name": "stdout",
     "output_type": "stream",
     "text": [
      "Please wait while we understand the problem...\n",
      "\n",
      "I'm sorry to hear that you're experiencing fainting episodes. Can you provide more details about these episodes? Do you feel dizzy or lightheaded before fainting? Are there any triggers that you've noticed, such as standing up quickly or feeling extremely fatigued? Your insights will help me better understand your situation and assist you appropriately.\n",
      "Please wait while we understand the problem...\n",
      "\n",
      "Based on your symptoms of fainting, it's important to take certain measures to address the issue. To treat fainting episodes, you can follow these steps:\n",
      "1. **Lay the person down:** If you feel like you're about to faint, it's essential to lie down and elevate your legs to help increase blood flow to your brain.\n",
      "2. **Loosen tight clothing:** Tight clothing can restrict blood flow, so it's recommended to loosen any constrictive clothing items.\n",
      "3. **Ensure good airflow:** Make sure the area where you're lying down has good ventilation to help you breathe properly.\n",
      "4. **Sip water:** Dehydration can sometimes lead to fainting, so sipping water can help maintain hydration levels.\n",
      "5. **Avoid sudden movements:** When you feel better, try to get up slowly to prevent another fainting episode.\n",
      "6. **Seek medical help:** If fainting episodes persist or are accompanied by other concerning symptoms, it's crucial to seek medical advice from a healthcare professional for further evaluation and treatment.\n",
      "\n",
      "I hope these steps help you manage your fainting episodes. If you continue to experience fainting spells, it's advisable to seek medical attention for a proper diagnosis and treatment plan.\n",
      "Please wait while we understand the problem...\n",
      "\n",
      "1) Lie down or sit down. To reduce the chance of fainting again, don't get up too quickly, 2) Place your head between your knees if you sit down, 3)Position the person on his or her back. If there are no injuries and the person is breathing, raise the person's legs above heart level — about 12 inches (30 centimeters) — if possible. Loosen belts, collars or other constrictive clothing. \n",
      "\n",
      "Please wait while we understand the problem...\n",
      "\n",
      "I'm sorry to hear that you're experiencing fever along with fainting episodes. It's essential to address both symptoms appropriately. Since fever can be a sign of an underlying infection or illness, it would be best to consult a healthcare professional for a proper diagnosis and treatment plan. If you have any specific concerns or other symptoms accompanying the fever, please provide more details so I can assist you further. Remember, seeking medical advice is crucial to ensure your health and well-being.\n",
      "Please wait while we understand the problem...\n",
      "\n",
      "Thank you for sharing that information. Since you're experiencing both fainting episodes and a fever without any other symptoms, it's essential to seek medical attention promptly to determine the underlying cause of these health issues. Fever and fainting can sometimes indicate a more serious condition that requires medical evaluation and treatment.\n",
      "\n",
      "I recommend reaching out to a healthcare provider or visiting a healthcare facility for a thorough assessment. It's important to prioritize your health and well-being by seeking professional medical advice in this situation.\n",
      "\n",
      "If you have any more questions or need further assistance, feel free to let me know. Your health is important, and getting the right medical attention is crucial in situations like this.\n",
      "Please wait while we understand the problem...\n",
      "\n",
      "To treat a fever at home: 1)Drink plenty of fluids to stay hydrated. 2)Dress in lightweight clothing. 3)Use a light blanket if you feel chilled, until the chills end. 4)Take acetaminophen (Tylenol, others) or ibuprofen (Advil, Motrin IB, others). 5) Get medical help if the fever lasts more than five days in a row.\n",
      "\n"
     ]
    }
   ],
   "source": [
    "dialogue_mgmt_system()"
   ]
  },
  {
   "cell_type": "markdown",
   "id": "d9ec4175-d718-432a-9760-50fc5afd7ef5",
   "metadata": {},
   "source": [
    "#### Function calling example"
   ]
  },
  {
   "cell_type": "code",
   "execution_count": 23,
   "id": "fb4f8f41-5425-4a9a-9c9d-33a30df0f2d6",
   "metadata": {
    "tags": []
   },
   "outputs": [],
   "source": [
    "# Define function descriptions\n",
    "function_descriptions = [\n",
    "    {\n",
    "        \"name\": \"list_all_department\",\n",
    "        \"description\": \"Get all the departments provided by hospital.\",\n",
    "        \"parameters\": {\n",
    "            \"type\": \"object\",\n",
    "            \"properties\": {\n",
    "                \"department\": {\n",
    "                    \"type\": \"string\",\n",
    "                    \"description\": \"The required department to be shown if available\"\n",
    "                }\n",
    "            },\n",
    "            \"required\": [\"department\"]\n",
    "        }\n",
    "    },\n",
    "    {\n",
    "        \"name\": \"get_doctors_list\",\n",
    "        \"description\": \"Get list of doctors if bot can't solve a problem\",\n",
    "        \"parameters\": {\n",
    "            \"type\": \"object\",\n",
    "            \"properties\": {\n",
    "                \"issue\": {\n",
    "                    \"type\": \"string\",\n",
    "                    \"description\": \"The health issue to be solved\",\n",
    "                }\n",
    "            },\n",
    "            \"required\": [\"issue\"],\n",
    "        },\n",
    "    }\n",
    "]"
   ]
  },
  {
   "cell_type": "code",
   "execution_count": 24,
   "id": "2326d95c-c9cb-495b-af32-bc2e3d414047",
   "metadata": {
    "tags": []
   },
   "outputs": [],
   "source": [
    "\n",
    "def get_chat_completions_functions(input):\n",
    "        MODEL = 'gpt-3.5-turbo'\n",
    "        chat_completion = openai_client.chat.completions.create(\n",
    "            model = MODEL,\n",
    "            messages = input,\n",
    "            functions=function_descriptions,\n",
    "            function_call=\"auto\",\n",
    "            seed = 2345)\n",
    "        print(chat_completion.choices)\n",
    "        output = chat_completion.choices[0].message\n",
    "        return output"
   ]
  },
  {
   "cell_type": "code",
   "execution_count": 25,
   "id": "d068677a-82a2-4b09-a8b4-9b230669e978",
   "metadata": {
    "tags": []
   },
   "outputs": [],
   "source": [
    "# Example input to call both functions\n",
    "user_input_1 = {\"role\": \"user\", \"content\": \"Can you tell me about the cardiology department?\"}\n",
    "user_input_2 = {\"role\": \"user\", \"content\": \"I have a severe headache. Which doctor should I consult?\"}\n"
   ]
  },
  {
   "cell_type": "code",
   "execution_count": 26,
   "id": "87e3d720-4845-44aa-a8eb-98912f90747e",
   "metadata": {
    "tags": []
   },
   "outputs": [
    {
     "name": "stdout",
     "output_type": "stream",
     "text": [
      "[Choice(finish_reason='function_call', index=0, logprobs=None, message=ChatCompletionMessage(content=None, role='assistant', function_call=FunctionCall(arguments='{\"department\":\"cardiology\"}', name='list_all_department'), tool_calls=None))]\n",
      "ChatCompletionMessage(content=None, role='assistant', function_call=FunctionCall(arguments='{\"department\":\"cardiology\"}', name='list_all_department'), tool_calls=None)\n"
     ]
    }
   ],
   "source": [
    "# Call for the first function\n",
    "output_1 = get_chat_completions_functions([user_input_1])\n",
    "print(output_1)"
   ]
  },
  {
   "cell_type": "code",
   "execution_count": 27,
   "id": "7753bec5",
   "metadata": {},
   "outputs": [
    {
     "name": "stdout",
     "output_type": "stream",
     "text": [
      "[Choice(finish_reason='function_call', index=0, logprobs=None, message=ChatCompletionMessage(content=None, role='assistant', function_call=FunctionCall(arguments='{\"issue\":\"severe headache\"}', name='get_doctors_list'), tool_calls=None))]\n",
      "ChatCompletionMessage(content=None, role='assistant', function_call=FunctionCall(arguments='{\"issue\":\"severe headache\"}', name='get_doctors_list'), tool_calls=None)\n"
     ]
    }
   ],
   "source": [
    "# Call for the second function\n",
    "output_2 = get_chat_completions_functions([user_input_2])\n",
    "print(output_2)"
   ]
  },
  {
   "cell_type": "code",
   "execution_count": 29,
   "id": "218b7174",
   "metadata": {},
   "outputs": [],
   "source": [
    "# Mock implementations of the functions\n",
    "def list_all_department(department):\n",
    "    return f\"Department {department} is available.\"\n",
    "\n",
    "def get_doctors_list(issue):\n",
    "    return f\"List of doctors for {issue}: Dr. A, Dr. B, Dr. C.\""
   ]
  },
  {
   "cell_type": "code",
   "execution_count": 30,
   "id": "96a59760",
   "metadata": {},
   "outputs": [],
   "source": [
    "def showFunctionCallingResponse(output):\n",
    "    # Extract function call details from the output and call the appropriate function\n",
    "    params = json.loads(output.function_call.arguments)\n",
    "    chosen_function_name = output.function_call.name\n",
    "    # Map the function name to the actual function\n",
    "    function_map = {\n",
    "        \"list_all_department\": list_all_department,\n",
    "        \"get_doctors_list\": get_doctors_list\n",
    "    }\n",
    "\n",
    "    # Call the chosen function with the extracted parameters\n",
    "    if chosen_function_name in function_map:\n",
    "        chosen_function = function_map[chosen_function_name]\n",
    "        data = chosen_function(**params)\n",
    "        print(data)\n",
    "    else:\n",
    "        print(f\"Function {chosen_function_name} not found.\")"
   ]
  },
  {
   "cell_type": "code",
   "execution_count": 31,
   "id": "5f06df0a",
   "metadata": {},
   "outputs": [
    {
     "name": "stdout",
     "output_type": "stream",
     "text": [
      "Department cardiology is available.\n"
     ]
    }
   ],
   "source": [
    "showFunctionCallingResponse(output_1)"
   ]
  },
  {
   "cell_type": "code",
   "execution_count": 32,
   "id": "6fc1d484",
   "metadata": {},
   "outputs": [
    {
     "name": "stdout",
     "output_type": "stream",
     "text": [
      "List of doctors for severe headache: Dr. A, Dr. B, Dr. C.\n"
     ]
    }
   ],
   "source": [
    "showFunctionCallingResponse(output_2)"
   ]
  }
 ],
 "metadata": {
  "kernelspec": {
   "display_name": "Python 3 (ipykernel)",
   "language": "python",
   "name": "python3"
  },
  "language_info": {
   "codemirror_mode": {
    "name": "ipython",
    "version": 3
   },
   "file_extension": ".py",
   "mimetype": "text/x-python",
   "name": "python",
   "nbconvert_exporter": "python",
   "pygments_lexer": "ipython3",
   "version": "3.11.7"
  }
 },
 "nbformat": 4,
 "nbformat_minor": 5
}
